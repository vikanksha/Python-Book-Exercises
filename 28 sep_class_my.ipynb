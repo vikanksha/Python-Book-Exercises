{
 "cells": [
  {
   "cell_type": "code",
   "execution_count": 1,
   "metadata": {},
   "outputs": [],
   "source": [
    "def ipcheck(ipv4):\n",
    "    ip = ipv4.split(\" . \")\n",
    "    if len(ip)!=4: return \"invalid\"\n",
    "    for i in ip:\n",
    "        if int(i) not in range(256):\n",
    "            return \"invalid\"\n",
    "    return \"valid ip\"   "
   ]
  },
  {
   "cell_type": "code",
   "execution_count": 2,
   "metadata": {},
   "outputs": [
    {
     "data": {
      "text/plain": [
       "'invalid'"
      ]
     },
     "execution_count": 2,
     "metadata": {},
     "output_type": "execute_result"
    }
   ],
   "source": [
    "ipcheck(\"34.6.8.9.1\")"
   ]
  },
  {
   "cell_type": "code",
   "execution_count": 3,
   "metadata": {},
   "outputs": [],
   "source": [
    "#email sending\n"
   ]
  },
  {
   "cell_type": "code",
   "execution_count": 4,
   "metadata": {},
   "outputs": [
    {
     "ename": "NameError",
     "evalue": "name 'viku' is not defined",
     "output_type": "error",
     "traceback": [
      "\u001b[0;31m---------------------------------------------------------------------------\u001b[0m",
      "\u001b[0;31mNameError\u001b[0m                                 Traceback (most recent call last)",
      "\u001b[0;32m<ipython-input-4-fd8523604169>\u001b[0m in \u001b[0;36m<module>\u001b[0;34m\u001b[0m\n\u001b[1;32m      1\u001b[0m \u001b[0;32mimport\u001b[0m \u001b[0msmtplib\u001b[0m\u001b[0;34m\u001b[0m\u001b[0;34m\u001b[0m\u001b[0m\n\u001b[0;32m----> 2\u001b[0;31m \u001b[0msender\u001b[0m \u001b[0;34m=\u001b[0m \u001b[0mviku\u001b[0m\u001b[0;34m.\u001b[0m\u001b[0msweety09\u001b[0m\u001b[0;34m@\u001b[0m\u001b[0mgmail\u001b[0m\u001b[0;34m.\u001b[0m\u001b[0mcom\u001b[0m\u001b[0;34m\u001b[0m\u001b[0;34m\u001b[0m\u001b[0m\n\u001b[0m\u001b[1;32m      3\u001b[0m \u001b[0mreceiver\u001b[0m \u001b[0;34m=\u001b[0m \u001b[0;34m[\u001b[0m\u001b[0;34m'vikankshakumari09@gmail.com'\u001b[0m\u001b[0;34m]\u001b[0m\u001b[0;34m\u001b[0m\u001b[0;34m\u001b[0m\u001b[0m\n\u001b[1;32m      4\u001b[0m message = \"\"\"\n\u001b[1;32m      5\u001b[0m \u001b[0mtest\u001b[0m \u001b[0memail\u001b[0m\u001b[0;34m...\u001b[0m\u001b[0;34m.\u001b[0m\u001b[0;34m\u001b[0m\u001b[0;34m\u001b[0m\u001b[0m\n",
      "\u001b[0;31mNameError\u001b[0m: name 'viku' is not defined"
     ]
    }
   ],
   "source": [
    "from getpass import getpass\n",
    "import smtplib\n",
    "from email.mime.multipart import MIMEMultipart\n",
    "sender = viku.sweety09@gmail.com\n",
    "receiver = ['vikankshakumari09@gmail.com']\n",
    "message = \"\"\"\n",
    "test email....\n",
    "\"\"\"\n",
    "try:\n",
    "    s = smtplib.SMTP('smtp.gmail.com:587')\n",
    "    s.starttls()\n",
    "    s.sendmail(sender,receiver,message)\n",
    "    s.quit()\n",
    "    print(\"Email sent.\")\n",
    "except:\n",
    "    print(\"email sending failed\")"
   ]
  },
  {
   "cell_type": "code",
   "execution_count": null,
   "metadata": {},
   "outputs": [],
   "source": [
    "# socket programming\n",
    "import socket\n",
    "s = socket.socket()\n"
   ]
  },
  {
   "cell_type": "code",
   "execution_count": 14,
   "metadata": {},
   "outputs": [
    {
     "name": "stdout",
     "output_type": "stream",
     "text": [
      "[5, 10, 15, 20, 25]\n"
     ]
    }
   ],
   "source": [
    "a = 6\n",
    "l = []\n",
    "for element in range(1,a):\n",
    "    n =  element*5\n",
    "    l.append(n)\n",
    "print(l)\n",
    "    "
   ]
  },
  {
   "cell_type": "code",
   "execution_count": 24,
   "metadata": {},
   "outputs": [
    {
     "name": "stdout",
     "output_type": "stream",
     "text": [
      "[1, 2, 'Fizz', 4, 'Buzz', 'Fizz', 7, 8, 'Fizz', 'Buzz', 11, 'Fizz', 13, 14, 'FizzBuzz', 16, 17, 'Fizz', 19, 'Buzz', 'Fizz', 22]\n"
     ]
    }
   ],
   "source": [
    "def fizzBuzz(a):\n",
    "    l = []\n",
    "    for element in range(1,a+1):\n",
    "        if element % 3 == 0 and element % 5 == 0:\n",
    "            l.append('FizzBuzz')\n",
    "        elif element % 3 == 0:\n",
    "            l.append('Fizz')\n",
    "        elif element % 5 == 0:\n",
    "            l.append('Buzz')\n",
    "        else:\n",
    "            l.append(element)\n",
    "    return l\n",
    "res = fizzBuzz(22)    \n",
    "print(res)"
   ]
  },
  {
   "cell_type": "code",
   "execution_count": null,
   "metadata": {},
   "outputs": [],
   "source": []
  }
 ],
 "metadata": {
  "kernelspec": {
   "display_name": "Python 3",
   "language": "python",
   "name": "python3"
  },
  "language_info": {
   "codemirror_mode": {
    "name": "ipython",
    "version": 3
   },
   "file_extension": ".py",
   "mimetype": "text/x-python",
   "name": "python",
   "nbconvert_exporter": "python",
   "pygments_lexer": "ipython3",
   "version": "3.7.3"
  }
 },
 "nbformat": 4,
 "nbformat_minor": 2
}
