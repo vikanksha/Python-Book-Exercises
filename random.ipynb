{
 "cells": [
  {
   "cell_type": "code",
   "execution_count": 53,
   "metadata": {},
   "outputs": [
    {
     "name": "stdout",
     "output_type": "stream",
     "text": [
      "4\n",
      "['Neha', 'Puja', 'Sonu', 'Monu']\n"
     ]
    }
   ],
   "source": [
    "# write a dice game program, in which random no will be select from given range, and random words will be display from given arrays for those nos.\n",
    "import random\n",
    "no_range = (0,10)\n",
    "#return random.randrange(no_range)\n",
    "words_list = ['Ram','Shyam','lucky','Puja','Kabir','Rani','Neha','Sonu','Monu','Raju']\n",
    "game_no = 0\n",
    "while game_no == 0:\n",
    "    game_no = random.randrange(0,10,1)\n",
    "\n",
    "print(game_no)\n",
    "print(random.sample(words_list, k = game_no))"
   ]
  },
  {
   "cell_type": "code",
   "execution_count": 50,
   "metadata": {},
   "outputs": [
    {
     "data": {
      "text/plain": [
       "['Sonu', 'Monu', 'Raju', 'Puja', 'lucky', 'Shyam']"
      ]
     },
     "execution_count": 50,
     "metadata": {},
     "output_type": "execute_result"
    }
   ],
   "source": [
    "import random\n",
    "no_range = (0,10)\n",
    "words_list = ['Ram','Shyam','lucky','Puja','Kabir','Rani','Neha','Sonu','Monu','Raju']\n",
    "game_no = random.randrange(0,10,1)\n",
    "random.sample(['Ram','Shyam','lucky','Puja','Kabir','Rani','Neha','Sonu','Monu','Raju'],k = game_no)\n"
   ]
  },
  {
   "cell_type": "code",
   "execution_count": 2,
   "metadata": {},
   "outputs": [
    {
     "data": {
      "text/plain": [
       "[5, 2, 9]"
      ]
     },
     "execution_count": 2,
     "metadata": {},
     "output_type": "execute_result"
    }
   ],
   "source": [
    "random.sample(population=[2,5,7,8,9], k=3)"
   ]
  },
  {
   "cell_type": "code",
   "execution_count": 58,
   "metadata": {},
   "outputs": [
    {
     "name": "stdout",
     "output_type": "stream",
     "text": [
      "Book Size :130\n",
      "Page Digit :13\n",
      "3\n"
     ]
    }
   ],
   "source": [
    "pages = int(input(\"Book Size :\"))\n",
    "page_digit = (input(\"Page Digit :\"))\n",
    "print(\" \".join ([str(i)for i in range(1,pages+1)]).count(page_digit))"
   ]
  },
  {
   "cell_type": "code",
   "execution_count": null,
   "metadata": {},
   "outputs": [],
   "source": []
  }
 ],
 "metadata": {
  "kernelspec": {
   "display_name": "Python 3",
   "language": "python",
   "name": "python3"
  },
  "language_info": {
   "codemirror_mode": {
    "name": "ipython",
    "version": 3
   },
   "file_extension": ".py",
   "mimetype": "text/x-python",
   "name": "python",
   "nbconvert_exporter": "python",
   "pygments_lexer": "ipython3",
   "version": "3.7.3"
  }
 },
 "nbformat": 4,
 "nbformat_minor": 2
}
